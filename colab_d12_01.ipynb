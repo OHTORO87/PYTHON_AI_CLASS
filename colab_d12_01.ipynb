{
  "nbformat": 4,
  "nbformat_minor": 0,
  "metadata": {
    "colab": {
      "name": "colab_d12_01.ipynb",
      "private_outputs": true,
      "provenance": [],
      "collapsed_sections": [],
      "authorship_tag": "ABX9TyPQPA/ANx72qXICF3YsYF6O",
      "include_colab_link": true
    },
    "kernelspec": {
      "name": "python3",
      "display_name": "Python 3"
    },
    "language_info": {
      "name": "python"
    }
  },
  "cells": [
    {
      "cell_type": "markdown",
      "metadata": {
        "id": "view-in-github",
        "colab_type": "text"
      },
      "source": [
        "<a href=\"https://colab.research.google.com/github/OHTORO87/ai_class/blob/main/colab_d12_01.ipynb\" target=\"_parent\"><img src=\"https://colab.research.google.com/assets/colab-badge.svg\" alt=\"Open In Colab\"/></a>"
      ]
    },
    {
      "cell_type": "markdown",
      "metadata": {
        "id": "m8J0lI8rRUV4"
      },
      "source": [
        "# 5월 20일 오전 수업\n",
        "## 코랩 기초 사용법\n",
        "### 열심히 공부해야지"
      ]
    },
    {
      "cell_type": "code",
      "metadata": {
        "id": "3AecAe4VOQGf"
      },
      "source": [
        "!ls\n",
        "#유닉스 명령어\n"
      ],
      "execution_count": null,
      "outputs": []
    },
    {
      "cell_type": "markdown",
      "metadata": {
        "id": "AYGY6iC5RHSL"
      },
      "source": [
        "### !pwd ==> print working directory 현재위치확인"
      ]
    },
    {
      "cell_type": "code",
      "metadata": {
        "id": "QVn2IgLbQdMy"
      },
      "source": [
        "!pwd"
      ],
      "execution_count": null,
      "outputs": []
    },
    {
      "cell_type": "code",
      "metadata": {
        "id": "fxT8s9QTQetA"
      },
      "source": [
        "!whoami"
      ],
      "execution_count": null,
      "outputs": []
    },
    {
      "cell_type": "code",
      "metadata": {
        "id": "38a4nrWeQl0Q"
      },
      "source": [
        "%hist"
      ],
      "execution_count": null,
      "outputs": []
    },
    {
      "cell_type": "code",
      "metadata": {
        "id": "NO-dKTMvQqDH"
      },
      "source": [
        "import platform"
      ],
      "execution_count": null,
      "outputs": []
    },
    {
      "cell_type": "markdown",
      "metadata": {
        "id": "VNVPX9txR2cB"
      },
      "source": [
        "### 내컴은 지금 리눅스 어쩌구"
      ]
    },
    {
      "cell_type": "code",
      "metadata": {
        "id": "rlfZi-EWQx4n"
      },
      "source": [
        "platform.platform()"
      ],
      "execution_count": null,
      "outputs": []
    },
    {
      "cell_type": "markdown",
      "metadata": {
        "id": "z4KmwsXJRv3_"
      },
      "source": [
        "### 운영체제 우분투"
      ]
    },
    {
      "cell_type": "code",
      "metadata": {
        "id": "5q2QqTW5Q1Um"
      },
      "source": [
        "!nl /etc/issue.net"
      ],
      "execution_count": null,
      "outputs": []
    },
    {
      "cell_type": "markdown",
      "metadata": {
        "id": "g3H4PIIBR9g_"
      },
      "source": [
        "### cpu보는 방법"
      ]
    },
    {
      "cell_type": "code",
      "metadata": {
        "id": "rhtyWbFqRt2R"
      },
      "source": [
        "!nl /proc/cpuinfo"
      ],
      "execution_count": null,
      "outputs": []
    },
    {
      "cell_type": "markdown",
      "metadata": {
        "id": "Q1jXiuCjSOIf"
      },
      "source": [
        "### 메모리 보는 방법"
      ]
    },
    {
      "cell_type": "code",
      "metadata": {
        "id": "XJ-HLAnGR7uw"
      },
      "source": [
        "!nl /proc.meminfo"
      ],
      "execution_count": null,
      "outputs": []
    },
    {
      "cell_type": "markdown",
      "metadata": {
        "id": "q5Po4Xw_Smzq"
      },
      "source": [
        "### 디스크 보는법(disk free)\n",
        "### dev/sda1 보면 됨\n",
        "\n"
      ]
    },
    {
      "cell_type": "code",
      "metadata": {
        "id": "VSYn2mjtSNhY"
      },
      "source": [
        "!df -h "
      ],
      "execution_count": null,
      "outputs": []
    },
    {
      "cell_type": "markdown",
      "metadata": {
        "id": "edPUjNQkTcBQ"
      },
      "source": [
        "### 마운트해보자"
      ]
    },
    {
      "cell_type": "code",
      "metadata": {
        "id": "bzHxd7vfSZv1"
      },
      "source": [
        "from google.colab import drive"
      ],
      "execution_count": null,
      "outputs": []
    },
    {
      "cell_type": "code",
      "metadata": {
        "id": "FOXxUB8UUI3J"
      },
      "source": [
        "drive.mount('/content/drive')"
      ],
      "execution_count": null,
      "outputs": []
    },
    {
      "cell_type": "markdown",
      "metadata": {
        "id": "kY4U3Z9iUycn"
      },
      "source": [
        "### 15기가 짜리 드라이브가 연결되었다\n",
        "### 맨아래 보면 drive가 있다 여기에 연결됨"
      ]
    },
    {
      "cell_type": "code",
      "metadata": {
        "id": "4oUITeRJUP8O"
      },
      "source": [
        "!df -h"
      ],
      "execution_count": null,
      "outputs": []
    },
    {
      "cell_type": "code",
      "metadata": {
        "id": "H8_CqigAWYl_"
      },
      "source": [
        "import pandas as pd"
      ],
      "execution_count": null,
      "outputs": []
    },
    {
      "cell_type": "code",
      "metadata": {
        "id": "nv1PoKhAUw5_"
      },
      "source": [
        "pd1 = pd.read_excel('/content/ess.xlsx')"
      ],
      "execution_count": null,
      "outputs": []
    },
    {
      "cell_type": "code",
      "metadata": {
        "id": "4lBTspSnWP30"
      },
      "source": [
        "pd1"
      ],
      "execution_count": null,
      "outputs": []
    },
    {
      "cell_type": "markdown",
      "metadata": {
        "id": "UAwWDzfXY4eO"
      },
      "source": [
        "# 링크랑 그림이랑\n",
        "\n",
        "__볼드__\n",
        "\n",
        "**볼드**\n",
        "\n",
        "~~취소선~~\n",
        "\n",
        "[링크구글](http://www.google.com)"
      ]
    },
    {
      "cell_type": "code",
      "metadata": {
        "id": "eOwZmZeDYyv9"
      },
      "source": [
        "%hist"
      ],
      "execution_count": null,
      "outputs": []
    },
    {
      "cell_type": "markdown",
      "metadata": {
        "id": "dBPl4d5qfawL"
      },
      "source": [
        "## ss를 업로드해보자"
      ]
    },
    {
      "cell_type": "code",
      "metadata": {
        "id": "EsWdz5q7etqQ"
      },
      "source": [
        "!ls\n",
        "# content에 있는 파일을 보여준다"
      ],
      "execution_count": null,
      "outputs": []
    },
    {
      "cell_type": "code",
      "metadata": {
        "id": "Bt9PrSmNfZXZ"
      },
      "source": [
        "!cat -n ss.txt\n",
        "# ss 파일 불러오는법\n",
        "# n은 넘버링. 없으면 숫자 안붙음"
      ],
      "execution_count": null,
      "outputs": []
    },
    {
      "cell_type": "code",
      "metadata": {
        "id": "9sk4Gzd3f53O"
      },
      "source": [
        "pd1 = pd.read_csv('/content/ss.txt')"
      ],
      "execution_count": null,
      "outputs": []
    },
    {
      "cell_type": "code",
      "metadata": {
        "id": "8aOQJ5rlgpjA"
      },
      "source": [
        "pd1"
      ],
      "execution_count": null,
      "outputs": []
    },
    {
      "cell_type": "code",
      "metadata": {
        "id": "IGT5HZ7Bgqpr"
      },
      "source": [
        "d1 = pd.read_csv('/content/ss.txt')"
      ],
      "execution_count": null,
      "outputs": []
    },
    {
      "cell_type": "code",
      "metadata": {
        "id": "ibNcQGtrj4ud"
      },
      "source": [
        "d1"
      ],
      "execution_count": null,
      "outputs": []
    },
    {
      "cell_type": "code",
      "metadata": {
        "id": "5ptret7bj6KR"
      },
      "source": [
        "d2 = pd.read_csv('/content/sc.csv',encoding='cp949')"
      ],
      "execution_count": null,
      "outputs": []
    },
    {
      "cell_type": "code",
      "metadata": {
        "id": "Vkj7A0xwkCei"
      },
      "source": [
        "d3 = pd.read_excel('/content/se.xlsx')"
      ],
      "execution_count": null,
      "outputs": []
    },
    {
      "cell_type": "code",
      "metadata": {
        "id": "YSRasSvkk-af"
      },
      "source": [
        "d3\n",
        "#칼럼이 없어서 이순신을 임의로 칼럼으로 인식\n",
        "# 좌측 인덱스와 맨위 칼럼은 데이터로 인식 x"
      ],
      "execution_count": null,
      "outputs": []
    },
    {
      "cell_type": "code",
      "metadata": {
        "id": "zrUycqABk_kz"
      },
      "source": [
        "d = d3.copy()"
      ],
      "execution_count": null,
      "outputs": []
    },
    {
      "cell_type": "code",
      "metadata": {
        "id": "DZQMo5U3lqsR"
      },
      "source": [
        "type(d)"
      ],
      "execution_count": null,
      "outputs": []
    },
    {
      "cell_type": "code",
      "metadata": {
        "id": "JhzX2AMMlwo0"
      },
      "source": [
        "dir(d)"
      ],
      "execution_count": null,
      "outputs": []
    },
    {
      "cell_type": "code",
      "metadata": {
        "id": "RDY06bapmA8R"
      },
      "source": [
        "d.shape"
      ],
      "execution_count": null,
      "outputs": []
    },
    {
      "cell_type": "code",
      "metadata": {
        "id": "PfZTmrk_mVj4"
      },
      "source": [
        "d3 = pd.read_excel('/content/se.xlsx',names=['이름','국어','영어','수학'])"
      ],
      "execution_count": null,
      "outputs": []
    },
    {
      "cell_type": "code",
      "metadata": {
        "id": "H0_ZSaBsmyn1"
      },
      "source": [
        "d3"
      ],
      "execution_count": null,
      "outputs": []
    },
    {
      "cell_type": "code",
      "metadata": {
        "id": "q6KyZjMhnr6C"
      },
      "source": [
        "d5 = pd.read_excel('/content/se.xlsx', header = None)\n",
        "# 칼럼을 넣어주는 법"
      ],
      "execution_count": null,
      "outputs": []
    },
    {
      "cell_type": "code",
      "metadata": {
        "id": "FK06-_r5olDT"
      },
      "source": [
        "d5.columns=['이름','국어','영어','수학']"
      ],
      "execution_count": null,
      "outputs": []
    },
    {
      "cell_type": "code",
      "metadata": {
        "id": "RpmFop7RoqyE"
      },
      "source": [
        "d5"
      ],
      "execution_count": null,
      "outputs": []
    },
    {
      "cell_type": "code",
      "metadata": {
        "id": "H0flv5kGotMU"
      },
      "source": [
        "d = d5.copy()"
      ],
      "execution_count": null,
      "outputs": []
    },
    {
      "cell_type": "code",
      "metadata": {
        "id": "tGzqGu7Ao75d"
      },
      "source": [
        "d.head(3)"
      ],
      "execution_count": null,
      "outputs": []
    },
    {
      "cell_type": "code",
      "metadata": {
        "id": "1iE6fIano-s_"
      },
      "source": [
        "d.tail(2)"
      ],
      "execution_count": null,
      "outputs": []
    },
    {
      "cell_type": "code",
      "metadata": {
        "id": "MuxlYYHWpBa5"
      },
      "source": [
        "d.info()"
      ],
      "execution_count": null,
      "outputs": []
    },
    {
      "cell_type": "code",
      "metadata": {
        "id": "f4fute0kpQ2u"
      },
      "source": [
        "d.describe\n",
        "# ()괄호가 없으면 멤버라는 소리"
      ],
      "execution_count": null,
      "outputs": []
    },
    {
      "cell_type": "code",
      "metadata": {
        "id": "-Ea-Y4gvpWL9"
      },
      "source": [
        "d.describe()"
      ],
      "execution_count": null,
      "outputs": []
    },
    {
      "cell_type": "markdown",
      "metadata": {
        "id": "jA6ykRvKqM3D"
      },
      "source": [
        "## 인덱스와 칼럼 정보보는법"
      ]
    },
    {
      "cell_type": "code",
      "metadata": {
        "id": "AqgOlaILpnpn"
      },
      "source": [
        "d.index"
      ],
      "execution_count": null,
      "outputs": []
    },
    {
      "cell_type": "code",
      "metadata": {
        "id": "oKAM4YUepxvO"
      },
      "source": [
        "d.columns"
      ],
      "execution_count": null,
      "outputs": []
    },
    {
      "cell_type": "code",
      "metadata": {
        "id": "GzJ-R_3QqB3f"
      },
      "source": [
        "d['이름']"
      ],
      "execution_count": null,
      "outputs": []
    },
    {
      "cell_type": "code",
      "metadata": {
        "id": "p4Vt00roqRCv"
      },
      "source": [
        "d[['이름','영어']]"
      ],
      "execution_count": null,
      "outputs": []
    },
    {
      "cell_type": "markdown",
      "metadata": {
        "id": "Aryj1pJ3rZze"
      },
      "source": [
        "## 인덱싱 불러오는법"
      ]
    },
    {
      "cell_type": "code",
      "metadata": {
        "id": "TUaQENkSqpo0"
      },
      "source": [
        "d.loc[0]"
      ],
      "execution_count": null,
      "outputs": []
    },
    {
      "cell_type": "code",
      "metadata": {
        "id": "8ivQNa7Gq7ex"
      },
      "source": [
        "d.loc[1]"
      ],
      "execution_count": null,
      "outputs": []
    },
    {
      "cell_type": "code",
      "metadata": {
        "id": "PCGorEbPrYFI"
      },
      "source": [
        "d.loc[3:6]\n",
        "# n-1이 아니네?"
      ],
      "execution_count": null,
      "outputs": []
    },
    {
      "cell_type": "code",
      "metadata": {
        "id": "yCYp4AJDrfnX"
      },
      "source": [
        "d[:]"
      ],
      "execution_count": null,
      "outputs": []
    },
    {
      "cell_type": "code",
      "metadata": {
        "id": "2X_7osRlrqAL"
      },
      "source": [
        "d[0::3]\n",
        "## [start: end: step]"
      ],
      "execution_count": null,
      "outputs": []
    },
    {
      "cell_type": "code",
      "metadata": {
        "id": "ORScEYOXrt3x"
      },
      "source": [
        "d.loc[2:3,['영어','수학']]\n",
        "# 원하는 정보만 불러오기\n",
        "# 인덱싱 설정, 칼럼 설정"
      ],
      "execution_count": null,
      "outputs": []
    },
    {
      "cell_type": "code",
      "metadata": {
        "id": "lnzBk1KusOfa"
      },
      "source": [
        "d['국어']"
      ],
      "execution_count": null,
      "outputs": []
    },
    {
      "cell_type": "code",
      "metadata": {
        "id": "56AAi9wDs3-b"
      },
      "source": [
        "d[['이름','영어']]"
      ],
      "execution_count": null,
      "outputs": []
    },
    {
      "cell_type": "code",
      "metadata": {
        "id": "7WCatg9ns9Bb"
      },
      "source": [
        "d.loc[3]\n",
        "# d[3]는 안된다"
      ],
      "execution_count": null,
      "outputs": []
    },
    {
      "cell_type": "code",
      "metadata": {
        "id": "on3yIUCOtCDB"
      },
      "source": [
        "d.loc[5:9]\n",
        "# 슬라이싱"
      ],
      "execution_count": null,
      "outputs": []
    },
    {
      "cell_type": "code",
      "metadata": {
        "id": "kzZNsPYetIr4"
      },
      "source": [
        "d.loc[::-1]"
      ],
      "execution_count": null,
      "outputs": []
    },
    {
      "cell_type": "code",
      "metadata": {
        "id": "-XKUhJVPtXXX"
      },
      "source": [
        "d.loc[2:8:3]"
      ],
      "execution_count": null,
      "outputs": []
    },
    {
      "cell_type": "code",
      "metadata": {
        "id": "pdigxCqFtgLp"
      },
      "source": [
        "d.loc[:,:]"
      ],
      "execution_count": null,
      "outputs": []
    },
    {
      "cell_type": "code",
      "metadata": {
        "id": "cLVlL_7_ttVJ"
      },
      "source": [
        "d.loc[:,['수학','영어']]"
      ],
      "execution_count": null,
      "outputs": []
    },
    {
      "cell_type": "code",
      "metadata": {
        "id": "p0Ep4q6huCT7"
      },
      "source": [
        "d.loc[5:6,['수학','영어']]"
      ],
      "execution_count": null,
      "outputs": []
    },
    {
      "cell_type": "code",
      "metadata": {
        "id": "okVT9zEpuPn8"
      },
      "source": [
        "d.loc[::2,['이름','수학','영어']]"
      ],
      "execution_count": null,
      "outputs": []
    },
    {
      "cell_type": "code",
      "metadata": {
        "id": "U2Wo89NUud97"
      },
      "source": [
        "d.loc[3][2]\n",
        "# 여기서는 n-1이 없다\n",
        "# 무조건 0,1,2,3이다"
      ],
      "execution_count": null,
      "outputs": []
    },
    {
      "cell_type": "code",
      "metadata": {
        "id": "32BWWtMJu1TY"
      },
      "source": [
        "d.loc[0][0]"
      ],
      "execution_count": null,
      "outputs": []
    },
    {
      "cell_type": "code",
      "metadata": {
        "id": "5Kj7N5bsvDT3"
      },
      "source": [
        ""
      ],
      "execution_count": null,
      "outputs": []
    }
  ]
}